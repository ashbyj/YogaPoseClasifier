{
 "cells": [
  {
   "cell_type": "markdown",
   "id": "6a73e987-0ab3-45e9-8a09-dfc087bb7efd",
   "metadata": {},
   "source": [
    "# modeling"
   ]
  },
  {
   "cell_type": "markdown",
   "id": "160a46a5-0b14-48ff-a2bc-008bed24a4aa",
   "metadata": {},
   "source": [
    "The goal of this notebook will be to find an appropriate model to move forward with.  Because this is a general immage classification problem, accuracy will be the success metric used.  There is no reason to prefer misclassification in any direction and enough new images were generated to ensure that each of the 5 classes are well balanced.  An accuracy score of 90+ on the test dataset will be considered a success."
   ]
  },
  {
   "cell_type": "markdown",
   "id": "11c8c6f8-eac7-4c7a-b956-c842cf6ac5b1",
   "metadata": {},
   "source": [
    "## contents\n",
    "* [imports and settings](#imports)\n",
    "* [cnn trained with collected data](#cnn)\n",
    "* [resnet50 pretrained](#resnet50)"
   ]
  },
  {
   "cell_type": "markdown",
   "id": "3efc8cf4-6548-4954-8801-e09a58fa3559",
   "metadata": {},
   "source": [
    "## imports and settings<a id='imports'></a>"
   ]
  },
  {
   "cell_type": "code",
   "execution_count": 1,
   "id": "8f5a32cc-2f44-4e60-9415-1de09b74f417",
   "metadata": {},
   "outputs": [
    {
     "name": "stderr",
     "output_type": "stream",
     "text": [
      "2023-12-10 14:32:05.921403: I tensorflow/core/util/port.cc:113] oneDNN custom operations are on. You may see slightly different numerical results due to floating-point round-off errors from different computation orders. To turn them off, set the environment variable `TF_ENABLE_ONEDNN_OPTS=0`.\n",
      "2023-12-10 14:32:05.941021: E external/local_xla/xla/stream_executor/cuda/cuda_dnn.cc:9261] Unable to register cuDNN factory: Attempting to register factory for plugin cuDNN when one has already been registered\n",
      "2023-12-10 14:32:05.941044: E external/local_xla/xla/stream_executor/cuda/cuda_fft.cc:607] Unable to register cuFFT factory: Attempting to register factory for plugin cuFFT when one has already been registered\n",
      "2023-12-10 14:32:05.941548: E external/local_xla/xla/stream_executor/cuda/cuda_blas.cc:1515] Unable to register cuBLAS factory: Attempting to register factory for plugin cuBLAS when one has already been registered\n",
      "2023-12-10 14:32:05.945006: I tensorflow/core/platform/cpu_feature_guard.cc:182] This TensorFlow binary is optimized to use available CPU instructions in performance-critical operations.\n",
      "To enable the following instructions: AVX2 AVX_VNNI FMA, in other operations, rebuild TensorFlow with the appropriate compiler flags.\n",
      "2023-12-10 14:32:06.304693: W tensorflow/compiler/tf2tensorrt/utils/py_utils.cc:38] TF-TRT Warning: Could not find TensorRT\n",
      "2023-12-10 14:32:06.730908: I external/local_xla/xla/stream_executor/cuda/cuda_executor.cc:901] successful NUMA node read from SysFS had negative value (-1), but there must be at least one NUMA node, so returning NUMA node zero. See more at https://github.com/torvalds/linux/blob/v6.0/Documentation/ABI/testing/sysfs-bus-pci#L344-L355\n",
      "2023-12-10 14:32:06.750144: I external/local_xla/xla/stream_executor/cuda/cuda_executor.cc:901] successful NUMA node read from SysFS had negative value (-1), but there must be at least one NUMA node, so returning NUMA node zero. See more at https://github.com/torvalds/linux/blob/v6.0/Documentation/ABI/testing/sysfs-bus-pci#L344-L355\n",
      "2023-12-10 14:32:06.750238: I external/local_xla/xla/stream_executor/cuda/cuda_executor.cc:901] successful NUMA node read from SysFS had negative value (-1), but there must be at least one NUMA node, so returning NUMA node zero. See more at https://github.com/torvalds/linux/blob/v6.0/Documentation/ABI/testing/sysfs-bus-pci#L344-L355\n"
     ]
    }
   ],
   "source": [
    "import os\n",
    "import matplotlib.pyplot as plt\n",
    "import warnings\n",
    "import tensorflow as tf\n",
    "from tensorflow.keras.preprocessing.image import ImageDataGenerator\n",
    "from tensorflow.keras.applications import ResNet50\n",
    "from tensorflow.keras.applications.resnet50 import preprocess_input\n",
    "from tensorflow.keras.models import Model, Sequential\n",
    "from tensorflow.keras.layers import Conv2D, MaxPooling2D, Dense, Flatten, Dropout, GlobalAveragePooling2D\n",
    "\n",
    "warnings.filterwarnings(\"ignore\")\n",
    "%matplotlib inline\n",
    "\n",
    "gpus = tf.config.experimental.list_physical_devices('GPU')\n",
    "for gpu in gpus: \n",
    "    tf.config.experimental.set_memory_growth(gpu, True)"
   ]
  },
  {
   "cell_type": "markdown",
   "id": "4fddb6ff-5585-46e6-9cb1-6ddd5a88d564",
   "metadata": {},
   "source": [
    "## cnn trained with collected data<a id='cnn'></a>\n",
    "\n",
    "The first model I will try is a convulutional neural network trained with only the images I have collected.  The first step will be to establish the train and validate sets and setup the generators for TensorFlow."
   ]
  },
  {
   "cell_type": "code",
   "execution_count": 2,
   "id": "bc464540-5703-43c4-89f9-d551f91e2567",
   "metadata": {},
   "outputs": [
    {
     "name": "stdout",
     "output_type": "stream",
     "text": [
      "Found 4999 images belonging to 5 classes.\n",
      "Found 500 images belonging to 5 classes.\n"
     ]
    }
   ],
   "source": [
    "batch_size = 50 \n",
    "img_size = (256, 256)\n",
    "\n",
    "train_dir = '../data/splits/train'\n",
    "train_datagen = ImageDataGenerator(rescale=1./255)\n",
    "\n",
    "train_generator = train_datagen.flow_from_directory(\n",
    "    train_dir,\n",
    "    target_size=img_size,\n",
    "    batch_size=batch_size,\n",
    "    class_mode='categorical'\n",
    ")\n",
    "\n",
    "val_dir = '../data/splits/validate'  \n",
    "val_datagen = ImageDataGenerator(rescale=1./255)\n",
    "\n",
    "val_generator = val_datagen.flow_from_directory(\n",
    "    val_dir,\n",
    "    target_size=img_size,\n",
    "    batch_size=50,\n",
    "    class_mode='categorical'\n",
    ")"
   ]
  },
  {
   "cell_type": "markdown",
   "id": "7b10d4e4-f487-4eb9-9bca-245f3904b7a1",
   "metadata": {},
   "source": [
    "The next step is to define the model in terms of layers.  Each of these selections was arbitrary, a best effort guess at what would give good results."
   ]
  },
  {
   "cell_type": "code",
   "execution_count": 3,
   "id": "8ab28bb2-591d-4743-aa87-7fa5b7fcf9af",
   "metadata": {},
   "outputs": [
    {
     "name": "stderr",
     "output_type": "stream",
     "text": [
      "2023-12-10 14:32:06.814692: I external/local_xla/xla/stream_executor/cuda/cuda_executor.cc:901] successful NUMA node read from SysFS had negative value (-1), but there must be at least one NUMA node, so returning NUMA node zero. See more at https://github.com/torvalds/linux/blob/v6.0/Documentation/ABI/testing/sysfs-bus-pci#L344-L355\n",
      "2023-12-10 14:32:06.814799: I external/local_xla/xla/stream_executor/cuda/cuda_executor.cc:901] successful NUMA node read from SysFS had negative value (-1), but there must be at least one NUMA node, so returning NUMA node zero. See more at https://github.com/torvalds/linux/blob/v6.0/Documentation/ABI/testing/sysfs-bus-pci#L344-L355\n",
      "2023-12-10 14:32:06.814843: I external/local_xla/xla/stream_executor/cuda/cuda_executor.cc:901] successful NUMA node read from SysFS had negative value (-1), but there must be at least one NUMA node, so returning NUMA node zero. See more at https://github.com/torvalds/linux/blob/v6.0/Documentation/ABI/testing/sysfs-bus-pci#L344-L355\n",
      "2023-12-10 14:32:06.862906: I external/local_xla/xla/stream_executor/cuda/cuda_executor.cc:901] successful NUMA node read from SysFS had negative value (-1), but there must be at least one NUMA node, so returning NUMA node zero. See more at https://github.com/torvalds/linux/blob/v6.0/Documentation/ABI/testing/sysfs-bus-pci#L344-L355\n",
      "2023-12-10 14:32:06.862983: I external/local_xla/xla/stream_executor/cuda/cuda_executor.cc:901] successful NUMA node read from SysFS had negative value (-1), but there must be at least one NUMA node, so returning NUMA node zero. See more at https://github.com/torvalds/linux/blob/v6.0/Documentation/ABI/testing/sysfs-bus-pci#L344-L355\n",
      "2023-12-10 14:32:06.863039: I external/local_xla/xla/stream_executor/cuda/cuda_executor.cc:901] successful NUMA node read from SysFS had negative value (-1), but there must be at least one NUMA node, so returning NUMA node zero. See more at https://github.com/torvalds/linux/blob/v6.0/Documentation/ABI/testing/sysfs-bus-pci#L344-L355\n",
      "2023-12-10 14:32:06.863078: I tensorflow/core/common_runtime/gpu/gpu_device.cc:1929] Created device /job:localhost/replica:0/task:0/device:GPU:0 with 8400 MB memory:  -> device: 0, name: NVIDIA GeForce RTX 4080, pci bus id: 0000:01:00.0, compute capability: 8.9\n"
     ]
    }
   ],
   "source": [
    "model = Sequential([\n",
    "    Conv2D(16, (3, 3), activation='relu', padding='same', input_shape=(256, 256, 3)),\n",
    "    MaxPooling2D(2, 2),\n",
    "    Conv2D(32, (3, 3), activation='relu', padding='same'),\n",
    "    MaxPooling2D(2, 2),\n",
    "    Conv2D(64, (3, 3), activation='relu', padding='same'),\n",
    "    MaxPooling2D(2, 2),\n",
    "    Conv2D(64, (3, 3), activation='relu', padding='same'),\n",
    "    MaxPooling2D(2, 2),\n",
    "    Conv2D(64, (3, 3), activation='relu', padding='same'),\n",
    "    MaxPooling2D(2, 2),\n",
    "    Flatten(),\n",
    "    Dense(256, activation='relu'),\n",
    "    Dropout(0.5),\n",
    "    Dense(5, activation='softmax')  \n",
    "])\n",
    "\n",
    "model.compile(optimizer='adam', \n",
    "              loss='categorical_crossentropy', \n",
    "              metrics=['accuracy'])"
   ]
  },
  {
   "cell_type": "markdown",
   "id": "b363c74d-2652-4fff-b76c-a56aa6b225ea",
   "metadata": {},
   "source": [
    "Now, we train the model."
   ]
  },
  {
   "cell_type": "code",
   "execution_count": 4,
   "id": "fcbf5cb9-464e-4f72-af86-c9f0d5f20cdb",
   "metadata": {},
   "outputs": [
    {
     "name": "stdout",
     "output_type": "stream",
     "text": [
      "Epoch 1/10\n"
     ]
    },
    {
     "name": "stderr",
     "output_type": "stream",
     "text": [
      "2023-12-10 14:32:07.564204: I external/local_xla/xla/stream_executor/cuda/cuda_dnn.cc:454] Loaded cuDNN version 8907\n",
      "2023-12-10 14:32:07.604034: I external/local_tsl/tsl/platform/default/subprocess.cc:304] Start cannot spawn child process: No such file or directory\n",
      "2023-12-10 14:32:07.906320: I external/local_tsl/tsl/platform/default/subprocess.cc:304] Start cannot spawn child process: No such file or directory\n",
      "2023-12-10 14:32:08.207104: I external/local_xla/xla/service/service.cc:168] XLA service 0x7fa2f4d2c690 initialized for platform CUDA (this does not guarantee that XLA will be used). Devices:\n",
      "2023-12-10 14:32:08.207121: I external/local_xla/xla/service/service.cc:176]   StreamExecutor device (0): NVIDIA GeForce RTX 4080, Compute Capability 8.9\n",
      "2023-12-10 14:32:08.210107: I tensorflow/compiler/mlir/tensorflow/utils/dump_mlir_util.cc:269] disabling MLIR crash reproducer, set env var `MLIR_CRASH_REPRODUCER_DIRECTORY` to enable.\n",
      "WARNING: All log messages before absl::InitializeLog() is called are written to STDERR\n",
      "I0000 00:00:1702240328.251880  649627 device_compiler.h:186] Compiled cluster using XLA!  This line is logged at most once for the lifetime of the process.\n"
     ]
    },
    {
     "name": "stdout",
     "output_type": "stream",
     "text": [
      "99/99 [==============================] - 8s 53ms/step - loss: 1.5931 - accuracy: 0.2564 - val_loss: 1.4760 - val_accuracy: 0.3960\n",
      "Epoch 2/10\n",
      "99/99 [==============================] - 5s 46ms/step - loss: 1.4156 - accuracy: 0.4084 - val_loss: 1.0972 - val_accuracy: 0.6120\n",
      "Epoch 3/10\n",
      "99/99 [==============================] - 5s 46ms/step - loss: 1.1086 - accuracy: 0.5765 - val_loss: 0.7171 - val_accuracy: 0.7540\n",
      "Epoch 4/10\n",
      "99/99 [==============================] - 5s 46ms/step - loss: 0.8915 - accuracy: 0.6678 - val_loss: 0.7293 - val_accuracy: 0.7340\n",
      "Epoch 5/10\n",
      "99/99 [==============================] - 5s 46ms/step - loss: 0.7241 - accuracy: 0.7319 - val_loss: 0.5339 - val_accuracy: 0.7960\n",
      "Epoch 6/10\n",
      "99/99 [==============================] - 5s 46ms/step - loss: 0.5825 - accuracy: 0.7866 - val_loss: 0.6229 - val_accuracy: 0.8120\n",
      "Epoch 7/10\n",
      "99/99 [==============================] - 5s 46ms/step - loss: 0.4695 - accuracy: 0.8323 - val_loss: 0.5742 - val_accuracy: 0.8080\n",
      "Epoch 8/10\n",
      "99/99 [==============================] - 5s 46ms/step - loss: 0.3464 - accuracy: 0.8753 - val_loss: 0.5542 - val_accuracy: 0.8240\n",
      "Epoch 9/10\n",
      "99/99 [==============================] - 5s 46ms/step - loss: 0.3069 - accuracy: 0.8889 - val_loss: 0.6233 - val_accuracy: 0.8280\n",
      "Epoch 10/10\n",
      "99/99 [==============================] - 5s 46ms/step - loss: 0.2322 - accuracy: 0.9186 - val_loss: 0.6100 - val_accuracy: 0.8600\n"
     ]
    }
   ],
   "source": [
    "epochs=10\n",
    "history = model.fit(\n",
    "    train_generator,\n",
    "    epochs=epochs,\n",
    "    steps_per_epoch=train_generator.samples // batch_size,\n",
    "    validation_data=val_generator,\n",
    "    validation_steps=val_generator.samples // batch_size  \n",
    ")"
   ]
  },
  {
   "cell_type": "markdown",
   "id": "9acb4224-66f1-4048-8d21-b0fb39ed76d5",
   "metadata": {},
   "source": [
    "86% accuracy on the validation set seems promising, but the validation loss is high, indicating we might be overfitting early.  Before looking at the test data, let's plot the loss."
   ]
  },
  {
   "cell_type": "code",
   "execution_count": 5,
   "id": "f86bb48f-f725-4121-8038-7b98dae20647",
   "metadata": {},
   "outputs": [
    {
     "data": {
      "image/png": "[encoded data removed]",
      "text/plain": [
       "<Figure size 800x400 with 1 Axes>"
      ]
     },
     "metadata": {},
     "output_type": "display_data"
    }
   ],
   "source": [
    "plt.figure(figsize=(8, 4))\n",
    "plt.plot(history.history['loss'], label='training')\n",
    "plt.plot(history.history['val_loss'], label='validation')\n",
    "\n",
    "plt.title('cnn no pre-training')\n",
    "plt.xlabel('epochs')\n",
    "plt.ylabel('loss')\n",
    "plt.legend()\n",
    "plt.show()"
   ]
  },
  {
   "cell_type": "markdown",
   "id": "3d2e6843-e28d-44d9-b93d-2d05794feab1",
   "metadata": {},
   "source": [
    "The model converged the best it could early and the loss was still over 0.5 on the validation set when it did.  It seems like we may need more images to be able to train a more accurate model.  As it would be difficult to get new images, maybe using a pre-trained model would give better results?"
   ]
  },
  {
   "cell_type": "markdown",
   "id": "7eb70d84-a79b-4086-889f-1b6bc508fe2c",
   "metadata": {},
   "source": [
    "## Pre-trained with ResNet50<a id='resnet50'></a>"
   ]
  },
  {
   "cell_type": "markdown",
   "id": "8d3a3c9e-4a07-4bca-bd2f-07c2947819e3",
   "metadata": {},
   "source": [
    "The ResNet50 model included with TensorFlow is a good candidate for pre-training an image classifier.  I will start with it by first defining the model."
   ]
  },
  {
   "cell_type": "code",
   "execution_count": 6,
   "id": "efe0eeb7-3a99-4360-b4fc-3e5cd3d82f60",
   "metadata": {},
   "outputs": [],
   "source": [
    "base_model = ResNet50(weights='imagenet', include_top=False, input_shape=(256, 256, 3))\n",
    "\n",
    "for layer in base_model.layers:\n",
    "    layer.trainable = False\n",
    "\n",
    "x = base_model.output\n",
    "x = GlobalAveragePooling2D()(x)\n",
    "x = Dense(32, activation='relu')(x)\n",
    "predictions = Dense(5, activation='softmax')(x)\n",
    "\n",
    "model = Model(inputs=base_model.input, outputs=predictions)\n",
    "model.compile(optimizer='adam', loss='categorical_crossentropy', metrics=['accuracy'])"
   ]
  },
  {
   "cell_type": "markdown",
   "id": "b820ca34-8dff-4506-8c84-33c771d851e2",
   "metadata": {},
   "source": [
    "Then creating the generators for the train, validate and test datasets and finally traning the model.  "
   ]
  },
  {
   "cell_type": "code",
   "execution_count": 7,
   "id": "c6759055-2368-4b3e-9fa7-22df6a5b2e6e",
   "metadata": {},
   "outputs": [
    {
     "name": "stdout",
     "output_type": "stream",
     "text": [
      "Found 4999 images belonging to 5 classes.\n",
      "Found 500 images belonging to 5 classes.\n",
      "Found 500 images belonging to 5 classes.\n",
      "Epoch 1/10\n",
      "157/157 [==============================] - 9s 45ms/step - loss: 0.4776 - accuracy: 0.8296 - val_loss: 0.1812 - val_accuracy: 0.9440\n",
      "Epoch 2/10\n",
      "157/157 [==============================] - 6s 37ms/step - loss: 0.1336 - accuracy: 0.9624 - val_loss: 0.1601 - val_accuracy: 0.9480\n",
      "Epoch 3/10\n",
      "157/157 [==============================] - 6s 37ms/step - loss: 0.0791 - accuracy: 0.9810 - val_loss: 0.1486 - val_accuracy: 0.9580\n",
      "Epoch 4/10\n",
      "157/157 [==============================] - 6s 37ms/step - loss: 0.0488 - accuracy: 0.9898 - val_loss: 0.1396 - val_accuracy: 0.9520\n",
      "Epoch 5/10\n",
      "157/157 [==============================] - 6s 37ms/step - loss: 0.0300 - accuracy: 0.9962 - val_loss: 0.1282 - val_accuracy: 0.9580\n",
      "Epoch 6/10\n",
      "157/157 [==============================] - 6s 37ms/step - loss: 0.0197 - accuracy: 0.9982 - val_loss: 0.1289 - val_accuracy: 0.9660\n",
      "Epoch 7/10\n",
      "157/157 [==============================] - 6s 37ms/step - loss: 0.0130 - accuracy: 0.9996 - val_loss: 0.1331 - val_accuracy: 0.9640\n",
      "Epoch 8/10\n",
      "157/157 [==============================] - 6s 37ms/step - loss: 0.0082 - accuracy: 1.0000 - val_loss: 0.1368 - val_accuracy: 0.9620\n",
      "Epoch 9/10\n",
      "157/157 [==============================] - 6s 37ms/step - loss: 0.0066 - accuracy: 1.0000 - val_loss: 0.1513 - val_accuracy: 0.9620\n",
      "Epoch 10/10\n",
      "157/157 [==============================] - 6s 37ms/step - loss: 0.0051 - accuracy: 1.0000 - val_loss: 0.1258 - val_accuracy: 0.9620\n",
      "16/16 [==============================] - 1s 32ms/step - loss: 0.1366 - accuracy: 0.9600\n",
      "Test accuracy: 0.9599999785423279, Test loss: 0.1366025060415268\n"
     ]
    }
   ],
   "source": [
    "# Define directories\n",
    "train_dir = '../data/splits/train'\n",
    "val_dir = '../data/splits/validate'\n",
    "test_dir = '../data/splits/test'\n",
    "\n",
    "# ImageDataGenerators\n",
    "train_datagen = ImageDataGenerator(\n",
    "    preprocessing_function=preprocess_input,  # ResNet50 specific preprocessing\n",
    "    # Add any other preprocessing here\n",
    ")\n",
    "\n",
    "val_datagen = ImageDataGenerator(\n",
    "    preprocessing_function=preprocess_input\n",
    ")\n",
    "\n",
    "test_datagen = ImageDataGenerator(\n",
    "    preprocessing_function=preprocess_input\n",
    ")\n",
    "\n",
    "# Flow from directories\n",
    "train_generator = train_datagen.flow_from_directory(\n",
    "    train_dir,\n",
    "    target_size=(256, 256),\n",
    "    batch_size=32,\n",
    "    class_mode='categorical'\n",
    ")\n",
    "\n",
    "val_generator = val_datagen.flow_from_directory(\n",
    "    val_dir,\n",
    "    target_size=(256, 256),\n",
    "    batch_size=32,\n",
    "    class_mode='categorical'\n",
    ")\n",
    "\n",
    "test_generator = test_datagen.flow_from_directory(\n",
    "    test_dir,\n",
    "    target_size=(256, 256),\n",
    "    batch_size=32,\n",
    "    class_mode='categorical'\n",
    ")\n",
    "\n",
    "history = model.fit(\n",
    "    train_generator,\n",
    "    epochs=10,  \n",
    "    validation_data=val_generator\n",
    ")\n",
    "\n",
    "test_loss, test_accuracy = model.evaluate(test_generator)\n",
    "print(f\"Test accuracy: {test_accuracy}, Test loss: {test_loss}\")"
   ]
  },
  {
   "cell_type": "markdown",
   "id": "11e983a7-6176-4ce7-a5dc-9cac49106c05",
   "metadata": {},
   "source": [
    "96% accuracy with a 0.137 loss represents a much stronger model that should generalize well going forward.  This has met my success criteria and this model will be the one to move forward.  Just to confirm, let's look at the loss in the same way."
   ]
  },
  {
   "cell_type": "code",
   "execution_count": 8,
   "id": "bacfda15-b076-4486-ac1e-cd2855d8cc72",
   "metadata": {},
   "outputs": [
    {
     "data": {
      "image/png": "[encoded data removed]",
      "text/plain": [
       "<Figure size 800x400 with 1 Axes>"
      ]
     },
     "metadata": {},
     "output_type": "display_data"
    }
   ],
   "source": [
    "plt.figure(figsize=(8, 4))\n",
    "plt.plot(history.history['loss'], label='training')\n",
    "plt.plot(history.history['val_loss'], label='validation')\n",
    "plt.scatter(len(history.history['loss']) - 1, test_loss, label='test', color='purple')\n",
    "\n",
    "plt.title('pretrained with resnet50')\n",
    "plt.xlabel('epochs')\n",
    "plt.ylabel('loss')\n",
    "plt.legend()\n",
    "\n",
    "plt.show()"
   ]
  },
  {
   "cell_type": "code",
   "execution_count": 9,
   "id": "40193ec3-8bfd-4075-8b75-19c51af64204",
   "metadata": {},
   "outputs": [],
   "source": [
    "model.save(os.path.join('../models','resnet50_pretrained.h5'))"
   ]
  }
 ],
 "metadata": {
  "kernelspec": {
   "display_name": "Python 3 (ipykernel)",
   "language": "python",
   "name": "python3"
  },
  "language_info": {
   "codemirror_mode": {
    "name": "ipython",
    "version": 3
   },
   "file_extension": ".py",
   "mimetype": "text/x-python",
   "name": "python",
   "nbconvert_exporter": "python",
   "pygments_lexer": "ipython3",
   "version": "3.11.5"
  }
 },
 "nbformat": 4,
 "nbformat_minor": 5
}
